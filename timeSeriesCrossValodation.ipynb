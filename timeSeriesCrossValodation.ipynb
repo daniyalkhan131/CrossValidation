{
  "nbformat": 4,
  "nbformat_minor": 0,
  "metadata": {
    "colab": {
      "provenance": []
    },
    "kernelspec": {
      "name": "python3",
      "display_name": "Python 3"
    },
    "language_info": {
      "name": "python"
    }
  },
  "cells": [
    {
      "cell_type": "code",
      "execution_count": 39,
      "metadata": {
        "id": "67E9CyIMuNBK"
      },
      "outputs": [],
      "source": [
        "import numpy as np\n",
        "import pandas as pd"
      ]
    },
    {
      "cell_type": "code",
      "source": [
        "def rolling_forecast_origin(train,min_train_size,horizon):\n",
        "  #rolling forecast origin generator\n",
        "  for i in range(len(train)-min_train_size-horizon+1):\n",
        "    split_train=train[:min_train_size+i]\n",
        "    split_val=train[min_train_size+i:min_train_size+i+horizon]\n",
        "    yield split_train, split_val"
      ],
      "metadata": {
        "id": "qhZ9zXpxuS8R"
      },
      "execution_count": 40,
      "outputs": []
    },
    {
      "cell_type": "code",
      "source": [
        "full_series=[2502,2414,2800,2143,2708,1900,2333,2222,1234,3456]\n",
        "\n",
        "test=full_series[-2:]\n",
        "train=full_series[:-2]\n",
        "print(\"full training set: {0}\".format(train)) #this 0 tells index of data in format\n",
        "print(\"hidden test set: {0}\".format(test))"
      ],
      "metadata": {
        "colab": {
          "base_uri": "https://localhost:8080/"
        },
        "id": "fXl3Pa7uvkiU",
        "outputId": "6e0b1889-7c0d-4ab5-c1ab-8c6f55a73ea0"
      },
      "execution_count": 41,
      "outputs": [
        {
          "output_type": "stream",
          "name": "stdout",
          "text": [
            "full training set: [2502, 2414, 2800, 2143, 2708, 1900, 2333, 2222]\n",
            "hidden test set: [1234, 3456]\n"
          ]
        }
      ]
    },
    {
      "cell_type": "code",
      "source": [
        "cv_rolling=rolling_forecast_origin(train,min_train_size=4,horizon=1)\n",
        "cv_rolling"
      ],
      "metadata": {
        "colab": {
          "base_uri": "https://localhost:8080/"
        },
        "id": "pnehAak8wGgp",
        "outputId": "0f0cf602-4225-498b-84fa-4ff83f41024a"
      },
      "execution_count": 42,
      "outputs": [
        {
          "output_type": "execute_result",
          "data": {
            "text/plain": [
              "<generator object rolling_forecast_origin at 0x7cdaf2d32180>"
            ]
          },
          "metadata": {},
          "execution_count": 42
        }
      ]
    },
    {
      "cell_type": "code",
      "source": [
        "i=0\n",
        "for cv_train,cv_val in cv_rolling:\n",
        "  print(f\"CV[{i+1}]\")\n",
        "  print(f\"Train:\\t{cv_train}\")\n",
        "  print(f\"Val:\\t{cv_val}\")\n",
        "  print(\"-----------------\")\n",
        "  i+=1\n",
        "\n",
        "#we are predicting the future every time as it is time series data so\n",
        "#every time predicting future and next time that future data becomes part\n",
        "#of data and we predict next future data point considering"
      ],
      "metadata": {
        "colab": {
          "base_uri": "https://localhost:8080/"
        },
        "id": "wQmP6lQWw2Cw",
        "outputId": "f761639c-7a64-437f-ae53-962143df9d88"
      },
      "execution_count": 43,
      "outputs": [
        {
          "output_type": "stream",
          "name": "stdout",
          "text": [
            "CV[1]\n",
            "Train:\t[2502, 2414, 2800, 2143]\n",
            "Val:\t[2708]\n",
            "-----------------\n",
            "CV[2]\n",
            "Train:\t[2502, 2414, 2800, 2143, 2708]\n",
            "Val:\t[1900]\n",
            "-----------------\n",
            "CV[3]\n",
            "Train:\t[2502, 2414, 2800, 2143, 2708, 1900]\n",
            "Val:\t[2333]\n",
            "-----------------\n",
            "CV[4]\n",
            "Train:\t[2502, 2414, 2800, 2143, 2708, 1900, 2333]\n",
            "Val:\t[2222]\n",
            "-----------------\n"
          ]
        }
      ]
    },
    {
      "cell_type": "code",
      "source": [
        "#for two steps in the future\n",
        "cv_rolling=rolling_forecast_origin(train,min_train_size=4,horizon=2)\n",
        "i=0\n",
        "for cv_train,cv_val in cv_rolling:\n",
        "  print(f\"CV[{i+1}]\")\n",
        "  print(f\"Train:\\t{cv_train}\")\n",
        "  print(f\"Val:\\t{cv_val}\")\n",
        "  print(\"-----------------\")\n",
        "  i+=1"
      ],
      "metadata": {
        "colab": {
          "base_uri": "https://localhost:8080/"
        },
        "id": "0it51D5hx7vK",
        "outputId": "f5a41cf9-d9e3-47ac-ef4d-0176ab73e1b8"
      },
      "execution_count": 44,
      "outputs": [
        {
          "output_type": "stream",
          "name": "stdout",
          "text": [
            "CV[1]\n",
            "Train:\t[2502, 2414, 2800, 2143]\n",
            "Val:\t[2708, 1900]\n",
            "-----------------\n",
            "CV[2]\n",
            "Train:\t[2502, 2414, 2800, 2143, 2708]\n",
            "Val:\t[1900, 2333]\n",
            "-----------------\n",
            "CV[3]\n",
            "Train:\t[2502, 2414, 2800, 2143, 2708, 1900]\n",
            "Val:\t[2333, 2222]\n",
            "-----------------\n"
          ]
        }
      ]
    },
    {
      "cell_type": "code",
      "source": [
        "#sliding window approach\n",
        "#in this there is a fix window size like when we add next future\n",
        "#prediction data to our\n",
        "#train data then we also keep on removing older data from train set"
      ],
      "metadata": {
        "id": "0HYz_XEbzhee"
      },
      "execution_count": 45,
      "outputs": []
    },
    {
      "cell_type": "code",
      "source": [
        "def sliding_window(train,window_size,horizon):\n",
        "  #sliding window generator\n",
        "  for i in range(len(train)-window_size-horizon+1):\n",
        "    split_train=train[i:window_size+i]\n",
        "    split_val=train[window_size+i:window_size+i+horizon]\n",
        "    yield split_train, split_val"
      ],
      "metadata": {
        "id": "7p2RupaQ05_5"
      },
      "execution_count": 46,
      "outputs": []
    },
    {
      "cell_type": "code",
      "source": [
        "cv_sliding=sliding_window(train,window_size=4,horizon=1)\n",
        "i=0\n",
        "for cv_train,cv_val in cv_sliding:\n",
        "  print(f\"CV[{i+1}]\")\n",
        "  print(f\"Train:\\t{cv_train}\")\n",
        "  print(f\"Val:\\t{cv_val}\")\n",
        "  print(\"-----------------\")\n",
        "  i+=1"
      ],
      "metadata": {
        "colab": {
          "base_uri": "https://localhost:8080/"
        },
        "id": "Ven8PdjP1T_B",
        "outputId": "8ea121f9-419d-4d97-9e00-d99b1e65ad80"
      },
      "execution_count": 47,
      "outputs": [
        {
          "output_type": "stream",
          "name": "stdout",
          "text": [
            "CV[1]\n",
            "Train:\t[2502, 2414, 2800, 2143]\n",
            "Val:\t[2708]\n",
            "-----------------\n",
            "CV[2]\n",
            "Train:\t[2414, 2800, 2143, 2708]\n",
            "Val:\t[1900]\n",
            "-----------------\n",
            "CV[3]\n",
            "Train:\t[2800, 2143, 2708, 1900]\n",
            "Val:\t[2333]\n",
            "-----------------\n",
            "CV[4]\n",
            "Train:\t[2143, 2708, 1900, 2333]\n",
            "Val:\t[2222]\n",
            "-----------------\n"
          ]
        }
      ]
    },
    {
      "cell_type": "code",
      "source": [
        "#cross validation example"
      ],
      "metadata": {
        "id": "VV05fIg01it3"
      },
      "execution_count": 48,
      "outputs": []
    },
    {
      "cell_type": "code",
      "source": [
        "def cross_validation_score(model, train, cv, metric):\n",
        "  #we pass model for training, train dataset, crossvalidation generator\n",
        "  #and metric for evaluation\n",
        "  cv_scores=[]\n",
        "  for cv_train, cv_test in cv:\n",
        "    model.fit(cv_train)\n",
        "    preds=model.predict(horizon=len(cv_test))\n",
        "    print(f\"preds: {preds}\")\n",
        "    score=metric(y_true=cv_test,y_pred=preds)\n",
        "    cv_scores.append(score)\n",
        "  return np.array(cv_scores)"
      ],
      "metadata": {
        "id": "OE9in0BX2DXg"
      },
      "execution_count": 49,
      "outputs": []
    },
    {
      "cell_type": "code",
      "source": [
        "#!pip install forecast\n",
        "from forecast.baseline import SNaive, Naive1 #SNaive is sesonal naive\n",
        "from sklearn.metrics import mean_absolute_error\n",
        "\n",
        "#learn about time series data analysis then do dive into this\n",
        "#because predictive time series data is actually different then\n",
        "#then simply applying ML models\n",
        "\n",
        "#i have copied the code but library is not working and also not\n",
        "#understood with clearity"
      ],
      "metadata": {
        "colab": {
          "base_uri": "https://localhost:8080/",
          "height": 384
        },
        "id": "fdp1Mj3x8JJ-",
        "outputId": "f82f07c9-3958-4a14-dc8c-5dfd7acb366b"
      },
      "execution_count": 50,
      "outputs": [
        {
          "output_type": "error",
          "ename": "ModuleNotFoundError",
          "evalue": "ignored",
          "traceback": [
            "\u001b[0;31m---------------------------------------------------------------------------\u001b[0m",
            "\u001b[0;31mModuleNotFoundError\u001b[0m                       Traceback (most recent call last)",
            "\u001b[0;32m<ipython-input-50-fc90536734f8>\u001b[0m in \u001b[0;36m<cell line: 2>\u001b[0;34m()\u001b[0m\n\u001b[1;32m      1\u001b[0m \u001b[0;31m#!pip install forecast\u001b[0m\u001b[0;34m\u001b[0m\u001b[0;34m\u001b[0m\u001b[0m\n\u001b[0;32m----> 2\u001b[0;31m \u001b[0;32mfrom\u001b[0m \u001b[0mforecast\u001b[0m\u001b[0;34m.\u001b[0m\u001b[0mbaseline\u001b[0m \u001b[0;32mimport\u001b[0m \u001b[0mSNaive\u001b[0m\u001b[0;34m,\u001b[0m \u001b[0mNaive1\u001b[0m \u001b[0;31m#SNaive is sesonal naive\u001b[0m\u001b[0;34m\u001b[0m\u001b[0;34m\u001b[0m\u001b[0m\n\u001b[0m\u001b[1;32m      3\u001b[0m \u001b[0;32mfrom\u001b[0m \u001b[0msklearn\u001b[0m\u001b[0;34m.\u001b[0m\u001b[0mmetrics\u001b[0m \u001b[0;32mimport\u001b[0m \u001b[0mmean_absolute_error\u001b[0m\u001b[0;34m\u001b[0m\u001b[0;34m\u001b[0m\u001b[0m\n\u001b[1;32m      4\u001b[0m \u001b[0;34m\u001b[0m\u001b[0m\n\u001b[1;32m      5\u001b[0m \u001b[0;31m#learn about time series data analysis then do dive into this\u001b[0m\u001b[0;34m\u001b[0m\u001b[0;34m\u001b[0m\u001b[0m\n",
            "\u001b[0;31mModuleNotFoundError\u001b[0m: No module named 'forecast.baseline'",
            "",
            "\u001b[0;31m---------------------------------------------------------------------------\u001b[0;32m\nNOTE: If your import is failing due to a missing package, you can\nmanually install dependencies using either !pip or !apt.\n\nTo view examples of installing some common dependencies, click the\n\"Open Examples\" button below.\n\u001b[0;31m---------------------------------------------------------------------------\u001b[0m\n"
          ],
          "errorDetails": {
            "actions": [
              {
                "action": "open_url",
                "actionText": "Open Examples",
                "url": "/notebooks/snippets/importing_libraries.ipynb"
              }
            ]
          }
        }
      ]
    },
    {
      "cell_type": "code",
      "source": [
        "#load the ED attendance dataset\n",
        "ed_month = pd.read_csv('data/ed_mth_ts.csv', index_col='date', parse_dates=True)\n",
        "ed month.index.freq= 'MS'\n",
        "arrival_rate = ed_month ['arrivals ] / ed_month.index.days_in_month\n",
        "arrival_rate.shape"
      ],
      "metadata": {
        "id": "LnHkXsYU8XNp"
      },
      "execution_count": null,
      "outputs": []
    },
    {
      "cell_type": "code",
      "source": [
        "#Train test split\n",
        "\n",
        "SPLIT DATE = '2016-06-01'\n",
        "train = arrival_ rate.loc[arrival_rate.index < SPLIT_DATE]\n",
        "test = arrival_rate.loc[arrival_rate.index >= SPLIT_DATE]\n",
        "train.shape"
      ],
      "metadata": {
        "id": "PeYgdcyLCbUP"
      },
      "execution_count": null,
      "outputs": []
    },
    {
      "cell_type": "code",
      "source": [
        "cv_sliding = sliding_window(train, window_size=24, horizon=12)\n",
        "cv_scores_1 = cross_validation_score(model=SNaive(period=12),\n",
        "                                     train=train,\n",
        "                                     cv=cv_sliding,\n",
        "                                     metric=mean_absolute_error)\n",
        "pd. DataFrame (cv_scores_1).describe()"
      ],
      "metadata": {
        "id": "-XBkr0pWC-Yo"
      },
      "execution_count": null,
      "outputs": []
    },
    {
      "cell_type": "code",
      "source": [
        "cv_sliding = sliding_window(train, window_size=24, horizon=12)\n",
        "cv_scores_2 = cross_validation_score (model=Naive1(),\n",
        "                                      train=train,\n",
        "                                      cv=cv_sliding,\n",
        "                                      metric=mean_absolute_error)\n",
        "pd.DataFrame (cv_scores_2).describe ()"
      ],
      "metadata": {
        "id": "oOJwz2fmDMwA"
      },
      "execution_count": null,
      "outputs": []
    },
    {
      "cell_type": "code",
      "source": [
        "ax = pd.DataFrame (cv_scores_1).plot( figsize= (12,4))\n",
        "pd.Dataframe(cv_scores_ 2).plot(ax=ax)\n",
        "ax.legend ( ['SNaive', 'Naivel1'])"
      ],
      "metadata": {
        "id": "IWS_5nH6CcJE"
      },
      "execution_count": null,
      "outputs": []
    },
    {
      "cell_type": "code",
      "source": [
        "model = SNaive(period=12)\n",
        "model.fit(train)\n",
        "preds = model.predict(horizon=12)"
      ],
      "metadata": {
        "id": "rPU3FsqjCe35"
      },
      "execution_count": null,
      "outputs": []
    },
    {
      "cell_type": "code",
      "source": [
        "mean_absolute. _error(test, preds)"
      ],
      "metadata": {
        "id": "NPRieAvwDpJt"
      },
      "execution_count": null,
      "outputs": []
    }
  ]
}