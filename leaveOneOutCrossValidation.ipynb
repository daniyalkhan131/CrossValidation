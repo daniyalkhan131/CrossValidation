{
  "nbformat": 4,
  "nbformat_minor": 0,
  "metadata": {
    "colab": {
      "provenance": []
    },
    "kernelspec": {
      "name": "python3",
      "display_name": "Python 3"
    },
    "language_info": {
      "name": "python"
    }
  },
  "cells": [
    {
      "cell_type": "code",
      "execution_count": 1,
      "metadata": {
        "id": "RJ-aZGLpMEfR"
      },
      "outputs": [],
      "source": [
        "#LOOCV normally"
      ]
    },
    {
      "cell_type": "code",
      "source": [
        "from sklearn.datasets import make_blobs\n",
        "from sklearn.model_selection import LeaveOneOut\n",
        "from sklearn.ensemble import RandomForestClassifier\n",
        "from sklearn.ensemble import RandomForestRegressor\n",
        "from sklearn.metrics import accuracy_score"
      ],
      "metadata": {
        "id": "BQOh9nOEMR7w"
      },
      "execution_count": 2,
      "outputs": []
    },
    {
      "cell_type": "code",
      "source": [
        "X,y=make_blobs(n_samples=10,random_state=1)"
      ],
      "metadata": {
        "id": "Swa8Cmg7MsSa"
      },
      "execution_count": 4,
      "outputs": []
    },
    {
      "cell_type": "code",
      "source": [
        "cv= LeaveOneOut()"
      ],
      "metadata": {
        "id": "JnwrQYGRMyuP"
      },
      "execution_count": 5,
      "outputs": []
    },
    {
      "cell_type": "code",
      "source": [
        "X"
      ],
      "metadata": {
        "colab": {
          "base_uri": "https://localhost:8080/"
        },
        "id": "ewbEz4_xM3vo",
        "outputId": "94c67a8a-ea1e-4645-b921-e28eec2e2e85"
      },
      "execution_count": 6,
      "outputs": [
        {
          "output_type": "execute_result",
          "data": {
            "text/plain": [
              "array([[ -7.23731039,  -9.03108652],\n",
              "       [ -8.16550136,  -7.00850439],\n",
              "       [ -7.02266844,  -7.57041289],\n",
              "       [ -8.86394306,  -5.05323981],\n",
              "       [  0.08525186,   3.64528297],\n",
              "       [ -0.79415228,   2.10495117],\n",
              "       [ -1.34052081,   4.15711949],\n",
              "       [-10.32012971,  -4.3374029 ],\n",
              "       [ -2.18773166,   3.33352125],\n",
              "       [ -8.53560457,  -6.01348926]])"
            ]
          },
          "metadata": {},
          "execution_count": 6
        }
      ]
    },
    {
      "cell_type": "code",
      "source": [
        "y"
      ],
      "metadata": {
        "colab": {
          "base_uri": "https://localhost:8080/"
        },
        "id": "cnRI-_sRM88x",
        "outputId": "fdceb6d6-8086-475a-e923-1e736d773989"
      },
      "execution_count": 7,
      "outputs": [
        {
          "output_type": "execute_result",
          "data": {
            "text/plain": [
              "array([2, 2, 2, 1, 0, 0, 0, 1, 0, 1])"
            ]
          },
          "metadata": {},
          "execution_count": 7
        }
      ]
    },
    {
      "cell_type": "code",
      "source": [
        "for i,j in cv.split(X):\n",
        "  print(i,j) #it gives indices of splits"
      ],
      "metadata": {
        "colab": {
          "base_uri": "https://localhost:8080/"
        },
        "id": "kHxjjWGBM9PD",
        "outputId": "e64e97d8-641d-4a55-84ad-4952591c15fc"
      },
      "execution_count": 8,
      "outputs": [
        {
          "output_type": "stream",
          "name": "stdout",
          "text": [
            "[1 2 3 4 5 6 7 8 9] [0]\n",
            "[0 2 3 4 5 6 7 8 9] [1]\n",
            "[0 1 3 4 5 6 7 8 9] [2]\n",
            "[0 1 2 4 5 6 7 8 9] [3]\n",
            "[0 1 2 3 5 6 7 8 9] [4]\n",
            "[0 1 2 3 4 6 7 8 9] [5]\n",
            "[0 1 2 3 4 5 7 8 9] [6]\n",
            "[0 1 2 3 4 5 6 8 9] [7]\n",
            "[0 1 2 3 4 5 6 7 9] [8]\n",
            "[0 1 2 3 4 5 6 7 8] [9]\n"
          ]
        }
      ]
    },
    {
      "cell_type": "code",
      "source": [
        "y_true=[]\n",
        "y_pred=[]\n",
        "\n",
        "for i,j in cv.split(X):\n",
        "  X_train,X_test=X[i],X[j]\n",
        "  y_train,y_test=y[i],y[j]\n",
        "  model=RandomForestClassifier(random_state=1)\n",
        "  model.fit(X_train,y_train)\n",
        "  yhat=model.predict(X_test)\n",
        "  y_true.append(y_test[0])\n",
        "  y_pred.append(yhat[0])\n",
        "  print(y_test[0],yhat[0])\n",
        "\n",
        "#in this we dont do like calculate accuracy on 1 test data instead keep\n",
        "#them in a list then after for all data done then calc. accuracy using\n",
        "#yhat and y_test\n",
        "#remember there is a big difference"
      ],
      "metadata": {
        "colab": {
          "base_uri": "https://localhost:8080/"
        },
        "id": "umiUPCx8NMAW",
        "outputId": "006f3a46-3926-4ab8-f6e3-bb43b387fb7e"
      },
      "execution_count": 23,
      "outputs": [
        {
          "output_type": "stream",
          "name": "stdout",
          "text": [
            "2 2\n",
            "2 1\n",
            "2 2\n",
            "1 1\n",
            "0 0\n",
            "0 0\n",
            "0 0\n",
            "1 1\n",
            "0 0\n",
            "1 1\n"
          ]
        }
      ]
    },
    {
      "cell_type": "code",
      "source": [
        "accuracy=accuracy_score(y_true,y_pred)"
      ],
      "metadata": {
        "id": "phGM5Qr0NZl5"
      },
      "execution_count": 24,
      "outputs": []
    },
    {
      "cell_type": "code",
      "source": [
        "accuracy"
      ],
      "metadata": {
        "colab": {
          "base_uri": "https://localhost:8080/"
        },
        "id": "I6A1qSVeOluk",
        "outputId": "45730300-2f28-4adf-d5bd-fa930fd086d7"
      },
      "execution_count": 25,
      "outputs": [
        {
          "output_type": "execute_result",
          "data": {
            "text/plain": [
              "0.9"
            ]
          },
          "metadata": {},
          "execution_count": 25
        }
      ]
    },
    {
      "cell_type": "code",
      "source": [
        "#LOOCV using cross_val_score"
      ],
      "metadata": {
        "id": "MhKOAIyoPo5T"
      },
      "execution_count": 39,
      "outputs": []
    },
    {
      "cell_type": "code",
      "source": [
        "from sklearn.model_selection import cross_val_score"
      ],
      "metadata": {
        "id": "f8NPMX3yQ7HD"
      },
      "execution_count": 40,
      "outputs": []
    },
    {
      "cell_type": "code",
      "source": [
        "model1= RandomForestClassifier(random_state=1)"
      ],
      "metadata": {
        "id": "olXeZpCtRYA5"
      },
      "execution_count": 41,
      "outputs": []
    },
    {
      "cell_type": "code",
      "source": [
        "scores=cross_val_score(model1,X,y,scoring='accuracy',cv=LeaveOneOut())"
      ],
      "metadata": {
        "id": "y4teBD1pRe19"
      },
      "execution_count": 51,
      "outputs": []
    },
    {
      "cell_type": "code",
      "source": [
        "scores"
      ],
      "metadata": {
        "colab": {
          "base_uri": "https://localhost:8080/"
        },
        "id": "lHvndpeuR55g",
        "outputId": "ce5e6c9a-6bfa-4418-ea30-7bed85649630"
      },
      "execution_count": 52,
      "outputs": [
        {
          "output_type": "execute_result",
          "data": {
            "text/plain": [
              "array([1., 0., 1., 1., 1., 1., 1., 1., 1., 1.])"
            ]
          },
          "metadata": {},
          "execution_count": 52
        }
      ]
    },
    {
      "cell_type": "code",
      "source": [
        "scores.mean()"
      ],
      "metadata": {
        "colab": {
          "base_uri": "https://localhost:8080/"
        },
        "id": "6MsyUJJAR62J",
        "outputId": "5070d025-b749-4dcf-983a-3d53a6991f84"
      },
      "execution_count": 53,
      "outputs": [
        {
          "output_type": "execute_result",
          "data": {
            "text/plain": [
              "0.9"
            ]
          },
          "metadata": {},
          "execution_count": 53
        }
      ]
    },
    {
      "cell_type": "code",
      "source": [],
      "metadata": {
        "id": "aI4JhtAZT5WB"
      },
      "execution_count": 49,
      "outputs": []
    },
    {
      "cell_type": "code",
      "source": [],
      "metadata": {
        "id": "YWjvnfNLT5qQ"
      },
      "execution_count": null,
      "outputs": []
    }
  ]
}